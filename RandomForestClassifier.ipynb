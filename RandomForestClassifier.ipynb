{
  "nbformat": 4,
  "nbformat_minor": 0,
  "metadata": {
    "colab": {
      "name": "Women_hack_for_safety (3).ipynb",
      "provenance": [],
      "collapsed_sections": []
    },
    "kernelspec": {
      "name": "python3",
      "display_name": "Python 3"
    },
    "language_info": {
      "name": "python"
    }
  },
  "cells": [
    {
      "cell_type": "code",
      "metadata": {
        "id": "UHdwszI6PyqP"
      },
      "source": [
        "import pandas as pd\n",
        "\n",
        "#Matrix measurement\n",
        "from sklearn.metrics import classification_report\n",
        "from sklearn.metrics import confusion_matrix\n",
        "\n",
        "#Machine Learning Model\n",
        "from sklearn.ensemble import RandomForestClassifier\n",
        "\n",
        "# import train/test splitting function from sklearn\n",
        "from sklearn.model_selection import train_test_split\n",
        "\n",
        "from sklearn.preprocessing import LabelEncoder"
      ],
      "execution_count": null,
      "outputs": []
    },
    {
      "cell_type": "code",
      "metadata": {
        "id": "CYTGf_LXQYSn"
      },
      "source": [
        "#import the CSVs\n",
        "test_df = pd.read_csv('Test.csv')\n",
        "train_df = pd.read_csv('Train.csv')"
      ],
      "execution_count": null,
      "outputs": []
    },
    {
      "cell_type": "code",
      "metadata": {
        "colab": {
          "base_uri": "https://localhost:8080/"
        },
        "id": "ERv_i_-CWWHd",
        "outputId": "317828e8-89ea-43ab-e24d-374071116e73"
      },
      "source": [
        "#checking for class imbalance on the target value\n",
        "train_df['target'].value_counts()"
      ],
      "execution_count": null,
      "outputs": [
        {
          "output_type": "execute_result",
          "data": {
            "text/plain": [
              "0    7131\n",
              "1     605\n",
              "Name: target, dtype: int64"
            ]
          },
          "metadata": {
            "tags": []
          },
          "execution_count": 255
        }
      ]
    },
    {
      "cell_type": "code",
      "metadata": {
        "id": "k5QgeXoEeTv4",
        "colab": {
          "base_uri": "https://localhost:8080/",
          "height": 573
        },
        "outputId": "f77843eb-946f-47e4-f361-c0cb13bf9230"
      },
      "source": [
        "test_df.head()"
      ],
      "execution_count": null,
      "outputs": [
        {
          "output_type": "execute_result",
          "data": {
            "text/html": [
              "<div>\n",
              "<style scoped>\n",
              "    .dataframe tbody tr th:only-of-type {\n",
              "        vertical-align: middle;\n",
              "    }\n",
              "\n",
              "    .dataframe tbody tr th {\n",
              "        vertical-align: top;\n",
              "    }\n",
              "\n",
              "    .dataframe thead th {\n",
              "        text-align: right;\n",
              "    }\n",
              "</style>\n",
              "<table border=\"1\" class=\"dataframe\">\n",
              "  <thead>\n",
              "    <tr style=\"text-align: right;\">\n",
              "      <th></th>\n",
              "      <th>ID</th>\n",
              "      <th>gender</th>\n",
              "      <th>age</th>\n",
              "      <th>race</th>\n",
              "      <th>dwelling</th>\n",
              "      <th>dwelling_type</th>\n",
              "      <th>province_code</th>\n",
              "      <th>metro_code</th>\n",
              "      <th>psu</th>\n",
              "      <th>nationality</th>\n",
              "      <th>RTH</th>\n",
              "      <th>marital_st</th>\n",
              "      <th>Lang_inside</th>\n",
              "      <th>Lang_outside</th>\n",
              "      <th>Education</th>\n",
              "      <th>lw_work</th>\n",
              "      <th>lw_business</th>\n",
              "      <th>help_on_household</th>\n",
              "      <th>job_or_business</th>\n",
              "      <th>nature_of_work</th>\n",
              "    </tr>\n",
              "  </thead>\n",
              "  <tbody>\n",
              "    <tr>\n",
              "      <th>0</th>\n",
              "      <td>ID_00241643</td>\n",
              "      <td>Female</td>\n",
              "      <td>23</td>\n",
              "      <td>Coloured</td>\n",
              "      <td>Dwelling/house or brick/concrete block structu...</td>\n",
              "      <td>Formal</td>\n",
              "      <td>Northern Cape</td>\n",
              "      <td>NC - Non Metro</td>\n",
              "      <td>36410104</td>\n",
              "      <td>South Africa</td>\n",
              "      <td>Head/acting head</td>\n",
              "      <td>Single and have never been married/never lived...</td>\n",
              "      <td>Afrikaans</td>\n",
              "      <td>Afrikaans</td>\n",
              "      <td>Grade 10/Standard 8/Form 3</td>\n",
              "      <td>Yes</td>\n",
              "      <td>No</td>\n",
              "      <td>No</td>\n",
              "      <td>Not applicable</td>\n",
              "      <td>Permanent</td>\n",
              "    </tr>\n",
              "    <tr>\n",
              "      <th>1</th>\n",
              "      <td>ID_00312043</td>\n",
              "      <td>Female</td>\n",
              "      <td>64</td>\n",
              "      <td>Black African</td>\n",
              "      <td>Dwelling/house or brick/concrete block structu...</td>\n",
              "      <td>Formal</td>\n",
              "      <td>Limpopo</td>\n",
              "      <td>LP - Non Metro</td>\n",
              "      <td>97410477</td>\n",
              "      <td>South Africa</td>\n",
              "      <td>Head/acting head</td>\n",
              "      <td>Widowed</td>\n",
              "      <td>Afrikaans</td>\n",
              "      <td>Afrikaans</td>\n",
              "      <td>Grade 12/Standard 10/Form 5/Matric (No Exemption)</td>\n",
              "      <td>No</td>\n",
              "      <td>No</td>\n",
              "      <td>No</td>\n",
              "      <td>No</td>\n",
              "      <td>Not applicable</td>\n",
              "    </tr>\n",
              "    <tr>\n",
              "      <th>2</th>\n",
              "      <td>ID_00345323</td>\n",
              "      <td>Female</td>\n",
              "      <td>18</td>\n",
              "      <td>Black African</td>\n",
              "      <td>Unspecified</td>\n",
              "      <td>Unspecified</td>\n",
              "      <td>Eastern Cape</td>\n",
              "      <td>EC - Buffalo City</td>\n",
              "      <td>26011572</td>\n",
              "      <td>South Africa</td>\n",
              "      <td>Son/daughter/stepchild/adopted child of person 01</td>\n",
              "      <td>Single and have never been married/never lived...</td>\n",
              "      <td>IsiXhosa</td>\n",
              "      <td>IsiXhosa</td>\n",
              "      <td>Grade 11/Standard 9/Form 4</td>\n",
              "      <td>No</td>\n",
              "      <td>No</td>\n",
              "      <td>No</td>\n",
              "      <td>No</td>\n",
              "      <td>Not applicable</td>\n",
              "    </tr>\n",
              "    <tr>\n",
              "      <th>3</th>\n",
              "      <td>ID_00369643</td>\n",
              "      <td>Female</td>\n",
              "      <td>19</td>\n",
              "      <td>Black African</td>\n",
              "      <td>Dwelling/house or brick/concrete block structu...</td>\n",
              "      <td>Formal</td>\n",
              "      <td>Mpumalanga</td>\n",
              "      <td>MP - Non Metro</td>\n",
              "      <td>87710674</td>\n",
              "      <td>South Africa</td>\n",
              "      <td>Son/daughter/stepchild/adopted child of person 01</td>\n",
              "      <td>Single and have never been married/never lived...</td>\n",
              "      <td>Xitsonga</td>\n",
              "      <td>Sepedi</td>\n",
              "      <td>Grade 12/Standard 10/Form 5/Matric (No Exemption)</td>\n",
              "      <td>No</td>\n",
              "      <td>No</td>\n",
              "      <td>No</td>\n",
              "      <td>No</td>\n",
              "      <td>Not applicable</td>\n",
              "    </tr>\n",
              "    <tr>\n",
              "      <th>4</th>\n",
              "      <td>ID_00381163</td>\n",
              "      <td>Female</td>\n",
              "      <td>24</td>\n",
              "      <td>Black African</td>\n",
              "      <td>Dwelling/house or brick/concrete block structu...</td>\n",
              "      <td>Formal</td>\n",
              "      <td>Mpumalanga</td>\n",
              "      <td>MP - Non Metro</td>\n",
              "      <td>87411106</td>\n",
              "      <td>South Africa</td>\n",
              "      <td>Head/acting head</td>\n",
              "      <td>Single and have never been married/never lived...</td>\n",
              "      <td>SiSwati</td>\n",
              "      <td>SiSwati</td>\n",
              "      <td>Grade 11/Standard 9/Form 4</td>\n",
              "      <td>No</td>\n",
              "      <td>No</td>\n",
              "      <td>No</td>\n",
              "      <td>No</td>\n",
              "      <td>Not applicable</td>\n",
              "    </tr>\n",
              "  </tbody>\n",
              "</table>\n",
              "</div>"
            ],
            "text/plain": [
              "            ID  gender  age  ... help_on_household job_or_business  nature_of_work\n",
              "0  ID_00241643  Female   23  ...                No  Not applicable       Permanent\n",
              "1  ID_00312043  Female   64  ...                No              No  Not applicable\n",
              "2  ID_00345323  Female   18  ...                No              No  Not applicable\n",
              "3  ID_00369643  Female   19  ...                No              No  Not applicable\n",
              "4  ID_00381163  Female   24  ...                No              No  Not applicable\n",
              "\n",
              "[5 rows x 20 columns]"
            ]
          },
          "metadata": {
            "tags": []
          },
          "execution_count": 256
        }
      ]
    },
    {
      "cell_type": "code",
      "metadata": {
        "id": "ZpnGjb4AQm78",
        "colab": {
          "base_uri": "https://localhost:8080/",
          "height": 556
        },
        "outputId": "7c5b1f68-78bd-4640-aadc-a95c38ec0c85"
      },
      "source": [
        "train_df.head()"
      ],
      "execution_count": null,
      "outputs": [
        {
          "output_type": "execute_result",
          "data": {
            "text/html": [
              "<div>\n",
              "<style scoped>\n",
              "    .dataframe tbody tr th:only-of-type {\n",
              "        vertical-align: middle;\n",
              "    }\n",
              "\n",
              "    .dataframe tbody tr th {\n",
              "        vertical-align: top;\n",
              "    }\n",
              "\n",
              "    .dataframe thead th {\n",
              "        text-align: right;\n",
              "    }\n",
              "</style>\n",
              "<table border=\"1\" class=\"dataframe\">\n",
              "  <thead>\n",
              "    <tr style=\"text-align: right;\">\n",
              "      <th></th>\n",
              "      <th>ID</th>\n",
              "      <th>gender</th>\n",
              "      <th>age</th>\n",
              "      <th>race</th>\n",
              "      <th>dwelling</th>\n",
              "      <th>dwelling_type</th>\n",
              "      <th>province_code</th>\n",
              "      <th>metro_code</th>\n",
              "      <th>psu</th>\n",
              "      <th>nationality</th>\n",
              "      <th>RTH</th>\n",
              "      <th>marital_st</th>\n",
              "      <th>Lang_inside</th>\n",
              "      <th>Lang_outside</th>\n",
              "      <th>Education</th>\n",
              "      <th>lw_work</th>\n",
              "      <th>lw_business</th>\n",
              "      <th>help_on_household</th>\n",
              "      <th>job_or_business</th>\n",
              "      <th>nature_of_work</th>\n",
              "      <th>target</th>\n",
              "    </tr>\n",
              "  </thead>\n",
              "  <tbody>\n",
              "    <tr>\n",
              "      <th>0</th>\n",
              "      <td>ID_00008683</td>\n",
              "      <td>Female</td>\n",
              "      <td>20</td>\n",
              "      <td>Black African</td>\n",
              "      <td>Dwelling/house or brick/concrete block structu...</td>\n",
              "      <td>Formal</td>\n",
              "      <td>North West</td>\n",
              "      <td>NW - Non Metro</td>\n",
              "      <td>66710095</td>\n",
              "      <td>South Africa</td>\n",
              "      <td>Son/daughter/stepchild/adopted child of person 01</td>\n",
              "      <td>Single and have never been married/never lived...</td>\n",
              "      <td>Xitsonga</td>\n",
              "      <td>Setswana</td>\n",
              "      <td>Grade 11/Standard 9/Form 4</td>\n",
              "      <td>No</td>\n",
              "      <td>No</td>\n",
              "      <td>No</td>\n",
              "      <td>No</td>\n",
              "      <td>Not applicable</td>\n",
              "      <td>0</td>\n",
              "    </tr>\n",
              "    <tr>\n",
              "      <th>1</th>\n",
              "      <td>ID_00061163</td>\n",
              "      <td>Female</td>\n",
              "      <td>42</td>\n",
              "      <td>Black African</td>\n",
              "      <td>Dwelling/house or brick/concrete block structu...</td>\n",
              "      <td>Formal</td>\n",
              "      <td>Limpopo</td>\n",
              "      <td>LP - Non Metro</td>\n",
              "      <td>98510279</td>\n",
              "      <td>South Africa</td>\n",
              "      <td>Other relative (e.g. in-laws or aunt/uncle) of...</td>\n",
              "      <td>Living together like husband and wife</td>\n",
              "      <td>Sepedi</td>\n",
              "      <td>Sepedi</td>\n",
              "      <td>Grade 12/Standard 10/Form 5/Matric (No Exemption)</td>\n",
              "      <td>Yes</td>\n",
              "      <td>No</td>\n",
              "      <td>No</td>\n",
              "      <td>Not applicable</td>\n",
              "      <td>Permanent</td>\n",
              "      <td>0</td>\n",
              "    </tr>\n",
              "    <tr>\n",
              "      <th>2</th>\n",
              "      <td>ID_00071403</td>\n",
              "      <td>Female</td>\n",
              "      <td>86</td>\n",
              "      <td>Black African</td>\n",
              "      <td>Dwelling/house or brick/concrete block structu...</td>\n",
              "      <td>Formal</td>\n",
              "      <td>Eastern Cape</td>\n",
              "      <td>EC - Non Metro</td>\n",
              "      <td>29210321</td>\n",
              "      <td>South Africa</td>\n",
              "      <td>Father/mother/stepfather/stepmother of person 01</td>\n",
              "      <td>Widowed</td>\n",
              "      <td>IsiXhosa</td>\n",
              "      <td>IsiXhosa</td>\n",
              "      <td>Unspecified</td>\n",
              "      <td>No</td>\n",
              "      <td>No</td>\n",
              "      <td>No</td>\n",
              "      <td>No</td>\n",
              "      <td>Not applicable</td>\n",
              "      <td>0</td>\n",
              "    </tr>\n",
              "    <tr>\n",
              "      <th>3</th>\n",
              "      <td>ID_00077803</td>\n",
              "      <td>Female</td>\n",
              "      <td>20</td>\n",
              "      <td>Black African</td>\n",
              "      <td>Town house (semi-detached house in complex)</td>\n",
              "      <td>Formal</td>\n",
              "      <td>KwaZulu-Natal</td>\n",
              "      <td>KZN - eThekwini</td>\n",
              "      <td>59913860</td>\n",
              "      <td>South Africa</td>\n",
              "      <td>Son/daughter/stepchild/adopted child of person 01</td>\n",
              "      <td>Single and have never been married/never lived...</td>\n",
              "      <td>IsiZulu</td>\n",
              "      <td>IsiZulu</td>\n",
              "      <td>Grade 12/Standard 10/Form 5/Matric (No Exemption)</td>\n",
              "      <td>No</td>\n",
              "      <td>No</td>\n",
              "      <td>No</td>\n",
              "      <td>No</td>\n",
              "      <td>Not applicable</td>\n",
              "      <td>0</td>\n",
              "    </tr>\n",
              "    <tr>\n",
              "      <th>4</th>\n",
              "      <td>ID_00086763</td>\n",
              "      <td>Female</td>\n",
              "      <td>26</td>\n",
              "      <td>Black African</td>\n",
              "      <td>Town house (semi-detached house in complex)</td>\n",
              "      <td>Formal</td>\n",
              "      <td>Gauteng</td>\n",
              "      <td>GP - City of Johannesburg</td>\n",
              "      <td>79813828</td>\n",
              "      <td>South Africa</td>\n",
              "      <td>Son/daughter/stepchild/adopted child of person 01</td>\n",
              "      <td>Single and have never been married/never lived...</td>\n",
              "      <td>Setswana</td>\n",
              "      <td>English</td>\n",
              "      <td>Grade 12/Standard 10/Form 5/Matric (No Exemption)</td>\n",
              "      <td>No</td>\n",
              "      <td>No</td>\n",
              "      <td>No</td>\n",
              "      <td>No</td>\n",
              "      <td>Not applicable</td>\n",
              "      <td>0</td>\n",
              "    </tr>\n",
              "  </tbody>\n",
              "</table>\n",
              "</div>"
            ],
            "text/plain": [
              "            ID  gender  age  ... job_or_business  nature_of_work target\n",
              "0  ID_00008683  Female   20  ...              No  Not applicable      0\n",
              "1  ID_00061163  Female   42  ...  Not applicable       Permanent      0\n",
              "2  ID_00071403  Female   86  ...              No  Not applicable      0\n",
              "3  ID_00077803  Female   20  ...              No  Not applicable      0\n",
              "4  ID_00086763  Female   26  ...              No  Not applicable      0\n",
              "\n",
              "[5 rows x 21 columns]"
            ]
          },
          "metadata": {
            "tags": []
          },
          "execution_count": 258
        }
      ]
    },
    {
      "cell_type": "code",
      "metadata": {
        "id": "iIwId-YVRHE-",
        "colab": {
          "base_uri": "https://localhost:8080/"
        },
        "outputId": "832f7461-9a8a-452a-f9c3-26b8b146c2ab"
      },
      "source": [
        "#checking if there are any null values in the whole dataframe\n",
        "train_df.isnull().sum()"
      ],
      "execution_count": null,
      "outputs": [
        {
          "output_type": "execute_result",
          "data": {
            "text/plain": [
              "ID                   0\n",
              "gender               0\n",
              "age                  0\n",
              "race                 0\n",
              "dwelling             0\n",
              "dwelling_type        0\n",
              "province_code        0\n",
              "metro_code           0\n",
              "psu                  0\n",
              "nationality          0\n",
              "RTH                  0\n",
              "marital_st           0\n",
              "Lang_inside          0\n",
              "Lang_outside         0\n",
              "Education            0\n",
              "lw_work              0\n",
              "lw_business          0\n",
              "help_on_household    0\n",
              "job_or_business      0\n",
              "nature_of_work       0\n",
              "target               0\n",
              "dtype: int64"
            ]
          },
          "metadata": {
            "tags": []
          },
          "execution_count": 259
        }
      ]
    },
    {
      "cell_type": "code",
      "metadata": {
        "id": "K_Pu37R2S7AD"
      },
      "source": [
        "#LabelEncoder encodes values with 0 and n-classes - 1 where n is the number of distinct classes\n",
        "label = LabelEncoder()\n",
        "\n",
        "train_df['gender'] = label.fit_transform(train_df['gender'])\n",
        "train_df['race'] = label.fit_transform(train_df['race'])\n",
        "train_df['dwelling'] = label.fit_transform(train_df['dwelling'])\n",
        "train_df['dwelling_type'] = label.fit_transform(train_df['dwelling_type'])\n",
        "train_df['province_code'] = label.fit_transform(train_df['province_code'])\n",
        "train_df['metro_code'] = label.fit_transform(train_df['metro_code'])\n",
        "train_df['nationality'] = label.fit_transform(train_df['nationality'])\n",
        "train_df['RTH'] = label.fit_transform(train_df['RTH'])\n",
        "train_df['marital_st'] = label.fit_transform(train_df['marital_st'])\n",
        "train_df['Lang_inside'] = label.fit_transform(train_df['Lang_inside'])\n",
        "train_df['Lang_outside'] = label.fit_transform(train_df['Lang_outside'])\n",
        "train_df['Education'] = label.fit_transform(train_df['Education'])\n",
        "train_df['lw_work'] = label.fit_transform(train_df['lw_work'])\n",
        "train_df['lw_business'] = label.fit_transform(train_df['lw_business'])\n",
        "train_df['help_on_household'] = label.fit_transform(train_df['help_on_household'])\n",
        "train_df['job_or_business'] = label.fit_transform(train_df['job_or_business'])\n",
        "train_df['nature_of_work'] = label.fit_transform(train_df['nature_of_work'])"
      ],
      "execution_count": null,
      "outputs": []
    },
    {
      "cell_type": "code",
      "metadata": {
        "id": "jj5U38npVcqu",
        "colab": {
          "base_uri": "https://localhost:8080/",
          "height": 132
        },
        "outputId": "dd99bae1-1a7a-473f-8898-c319d3017bd2"
      },
      "source": [
        "train_df.head(2)"
      ],
      "execution_count": null,
      "outputs": [
        {
          "output_type": "execute_result",
          "data": {
            "text/html": [
              "<div>\n",
              "<style scoped>\n",
              "    .dataframe tbody tr th:only-of-type {\n",
              "        vertical-align: middle;\n",
              "    }\n",
              "\n",
              "    .dataframe tbody tr th {\n",
              "        vertical-align: top;\n",
              "    }\n",
              "\n",
              "    .dataframe thead th {\n",
              "        text-align: right;\n",
              "    }\n",
              "</style>\n",
              "<table border=\"1\" class=\"dataframe\">\n",
              "  <thead>\n",
              "    <tr style=\"text-align: right;\">\n",
              "      <th></th>\n",
              "      <th>ID</th>\n",
              "      <th>gender</th>\n",
              "      <th>age</th>\n",
              "      <th>race</th>\n",
              "      <th>dwelling</th>\n",
              "      <th>dwelling_type</th>\n",
              "      <th>province_code</th>\n",
              "      <th>metro_code</th>\n",
              "      <th>psu</th>\n",
              "      <th>nationality</th>\n",
              "      <th>RTH</th>\n",
              "      <th>marital_st</th>\n",
              "      <th>Lang_inside</th>\n",
              "      <th>Lang_outside</th>\n",
              "      <th>Education</th>\n",
              "      <th>lw_work</th>\n",
              "      <th>lw_business</th>\n",
              "      <th>help_on_household</th>\n",
              "      <th>job_or_business</th>\n",
              "      <th>nature_of_work</th>\n",
              "      <th>target</th>\n",
              "    </tr>\n",
              "  </thead>\n",
              "  <tbody>\n",
              "    <tr>\n",
              "      <th>0</th>\n",
              "      <td>ID_00008683</td>\n",
              "      <td>0</td>\n",
              "      <td>20</td>\n",
              "      <td>0</td>\n",
              "      <td>2</td>\n",
              "      <td>0</td>\n",
              "      <td>6</td>\n",
              "      <td>14</td>\n",
              "      <td>66710095</td>\n",
              "      <td>1</td>\n",
              "      <td>8</td>\n",
              "      <td>4</td>\n",
              "      <td>14</td>\n",
              "      <td>9</td>\n",
              "      <td>9</td>\n",
              "      <td>1</td>\n",
              "      <td>1</td>\n",
              "      <td>1</td>\n",
              "      <td>1</td>\n",
              "      <td>3</td>\n",
              "      <td>0</td>\n",
              "    </tr>\n",
              "    <tr>\n",
              "      <th>1</th>\n",
              "      <td>ID_00061163</td>\n",
              "      <td>0</td>\n",
              "      <td>42</td>\n",
              "      <td>0</td>\n",
              "      <td>2</td>\n",
              "      <td>0</td>\n",
              "      <td>4</td>\n",
              "      <td>11</td>\n",
              "      <td>98510279</td>\n",
              "      <td>1</td>\n",
              "      <td>7</td>\n",
              "      <td>1</td>\n",
              "      <td>7</td>\n",
              "      <td>7</td>\n",
              "      <td>11</td>\n",
              "      <td>3</td>\n",
              "      <td>1</td>\n",
              "      <td>1</td>\n",
              "      <td>2</td>\n",
              "      <td>4</td>\n",
              "      <td>0</td>\n",
              "    </tr>\n",
              "  </tbody>\n",
              "</table>\n",
              "</div>"
            ],
            "text/plain": [
              "            ID  gender  age  ...  job_or_business  nature_of_work  target\n",
              "0  ID_00008683       0   20  ...                1               3       0\n",
              "1  ID_00061163       0   42  ...                2               4       0\n",
              "\n",
              "[2 rows x 21 columns]"
            ]
          },
          "metadata": {
            "tags": []
          },
          "execution_count": 264
        }
      ]
    },
    {
      "cell_type": "code",
      "metadata": {
        "colab": {
          "base_uri": "https://localhost:8080/"
        },
        "id": "2kLHqi5LWy6K",
        "outputId": "b170074c-5bfc-4282-9cea-d8a016943ac6"
      },
      "source": [
        "# Separate majority and minority classes\n",
        "from sklearn.utils import resample\n",
        "df_majority = train_df[train_df.target==0]\n",
        "df_minority = train_df[train_df.target==1]\n",
        " \n",
        "# Downsample majority class \n",
        "df_majority_downsampled = resample(df_majority, \n",
        "                                 replace=False,    # sample without replacement\n",
        "                                 n_samples= 605,     # to match minority class\n",
        "                                 random_state=123) # reproducible results\n",
        " \n",
        "# Combine minority class with downsampled majority class\n",
        "df_downsampled = pd.concat([df_majority_downsampled, df_minority])\n",
        " \n",
        "# Display new class counts\n",
        "df_downsampled.target.value_counts()"
      ],
      "execution_count": null,
      "outputs": [
        {
          "output_type": "execute_result",
          "data": {
            "text/plain": [
              "1    605\n",
              "0    605\n",
              "Name: target, dtype: int64"
            ]
          },
          "metadata": {
            "tags": []
          },
          "execution_count": 265
        }
      ]
    },
    {
      "cell_type": "code",
      "metadata": {
        "id": "-CzEnMUcYk_w"
      },
      "source": [
        "# split data into predictors and response\n",
        "# THIS X AND Y VALUE ARE BASED ON MERGED DATAFRAME AND THEREFORE IS NOT THE SAME AS THE UNMERGE ONE. X COLS WILL DIFFER\n",
        "\n",
        "X = train_df.drop(['target', 'ID', 'gender'], axis=1)\n",
        "y = train_df['target']"
      ],
      "execution_count": null,
      "outputs": []
    },
    {
      "cell_type": "code",
      "metadata": {
        "id": "rrbRQ392YvjM"
      },
      "source": [
        "X_train, X_test, y_train, y_test = train_test_split(X, \n",
        "                                                    y, \n",
        "                                                    test_size=0.30, \n",
        "                                                    random_state=42)"
      ],
      "execution_count": null,
      "outputs": []
    },
    {
      "cell_type": "code",
      "metadata": {
        "colab": {
          "base_uri": "https://localhost:8080/"
        },
        "id": "L3fYlCu4ZF-_",
        "outputId": "34211681-13c7-4ba0-ef39-4028b6c66985"
      },
      "source": [
        "# Fitting Random Forest Regression to the dataset\n",
        "regressor = RandomForestClassifier()\n",
        "regressor.fit(X_train, y_train)"
      ],
      "execution_count": null,
      "outputs": [
        {
          "output_type": "execute_result",
          "data": {
            "text/plain": [
              "RandomForestClassifier(bootstrap=True, ccp_alpha=0.0, class_weight=None,\n",
              "                       criterion='gini', max_depth=None, max_features='auto',\n",
              "                       max_leaf_nodes=None, max_samples=None,\n",
              "                       min_impurity_decrease=0.0, min_impurity_split=None,\n",
              "                       min_samples_leaf=1, min_samples_split=2,\n",
              "                       min_weight_fraction_leaf=0.0, n_estimators=100,\n",
              "                       n_jobs=None, oob_score=False, random_state=None,\n",
              "                       verbose=0, warm_start=False)"
            ]
          },
          "metadata": {
            "tags": []
          },
          "execution_count": 268
        }
      ]
    },
    {
      "cell_type": "code",
      "source": [
        ""
      ],
      "metadata": {
        "id": "DfV7lkxbYEeO"
      },
      "execution_count": null,
      "outputs": []
    },
    {
      "cell_type": "code",
      "metadata": {
        "id": "XgUMcmzcZLQm"
      },
      "source": [
        "y_pred = regressor.predict(X_test)"
      ],
      "execution_count": null,
      "outputs": []
    },
    {
      "cell_type": "code",
      "metadata": {
        "colab": {
          "base_uri": "https://localhost:8080/"
        },
        "id": "32DCjp7lZPK0",
        "outputId": "8d508a14-a88d-4157-8078-63b96d66db71"
      },
      "source": [
        "#print the classification report\n",
        "print(metrics.classification_report(y_test, y_pred))"
      ],
      "execution_count": null,
      "outputs": [
        {
          "output_type": "stream",
          "text": [
            "              precision    recall  f1-score   support\n",
            "\n",
            "           0       0.92      1.00      0.95      2129\n",
            "           1       0.00      0.00      0.00       192\n",
            "\n",
            "    accuracy                           0.91      2321\n",
            "   macro avg       0.46      0.50      0.48      2321\n",
            "weighted avg       0.84      0.91      0.88      2321\n",
            "\n"
          ],
          "name": "stdout"
        }
      ]
    },
    {
      "cell_type": "code",
      "metadata": {
        "colab": {
          "base_uri": "https://localhost:8080/"
        },
        "id": "6f8S1OkuZTrT",
        "outputId": "6e95d5fd-8ac4-4ac5-c01a-fb97105c789c"
      },
      "source": [
        "#print the confusion matrix\n",
        "cm = confusion_matrix(y_test, y_pred)                                           \n",
        "cm"
      ],
      "execution_count": null,
      "outputs": [
        {
          "output_type": "execute_result",
          "data": {
            "text/plain": [
              "array([[2121,    8],\n",
              "       [ 192,    0]])"
            ]
          },
          "metadata": {
            "tags": []
          },
          "execution_count": 271
        }
      ]
    },
    {
      "cell_type": "markdown",
      "metadata": {
        "id": "JdyC_diQirsX"
      },
      "source": [
        "# Test"
      ]
    },
    {
      "cell_type": "code",
      "metadata": {
        "id": "wnbD2inLiqmj"
      },
      "source": [
        "# preprocessing\n",
        "test_df['gender'] = label.fit_transform(test_df['gender'])\n",
        "test_df['race'] = label.fit_transform(test_df['race'])\n",
        "\n",
        "# preprocess all the othe columns as well\n",
        "test_df['dwelling'] = label.fit_transform(test_df['dwelling'])\n",
        "test_df['dwelling_type'] = label.fit_transform(test_df['dwelling_type'])\n",
        "test_df['province_code'] = label.fit_transform(test_df['province_code'])\n",
        "test_df['metro_code'] = label.fit_transform(test_df['metro_code'])\n",
        "test_df['nationality'] = label.fit_transform(test_df['nationality'])\n",
        "test_df['RTH'] = label.fit_transform(test_df['RTH'])\n",
        "test_df['marital_st'] = label.fit_transform(test_df['marital_st'])\n",
        "test_df['Lang_inside'] = label.fit_transform(test_df['Lang_inside'])\n",
        "test_df['Lang_outside'] = label.fit_transform(test_df['Lang_outside'])\n",
        "test_df['Education'] = label.fit_transform(test_df['Education'])\n",
        "test_df['lw_work'] = label.fit_transform(test_df['lw_work'])\n",
        "test_df['lw_business'] = label.fit_transform(test_df['lw_business'])\n",
        "test_df['help_on_household'] = label.fit_transform(test_df['help_on_household'])\n",
        "test_df['job_or_business'] = label.fit_transform(test_df['job_or_business'])\n",
        "test_df['nature_of_work'] = label.fit_transform(test_df['nature_of_work'])"
      ],
      "execution_count": null,
      "outputs": []
    },
    {
      "cell_type": "code",
      "metadata": {
        "id": "S7i64Vr5i8v_",
        "colab": {
          "base_uri": "https://localhost:8080/",
          "height": 206
        },
        "outputId": "d335b118-43d7-4241-81e8-c575726e9c87"
      },
      "source": [
        "### predict on the test data\n",
        "test_ = test_df.drop([\"ID\", 'gender'], axis=1)\n",
        "test_predictions = regressor.predict(test_)\n",
        "submission_df = pd.DataFrame()\n",
        "submission_df[\"ID\"] = test_df[\"ID\"]\n",
        "submission_df[\"target\"] = test_predictions\n",
        "submission_df.head()"
      ],
      "execution_count": null,
      "outputs": [
        {
          "output_type": "execute_result",
          "data": {
            "text/html": [
              "<div>\n",
              "<style scoped>\n",
              "    .dataframe tbody tr th:only-of-type {\n",
              "        vertical-align: middle;\n",
              "    }\n",
              "\n",
              "    .dataframe tbody tr th {\n",
              "        vertical-align: top;\n",
              "    }\n",
              "\n",
              "    .dataframe thead th {\n",
              "        text-align: right;\n",
              "    }\n",
              "</style>\n",
              "<table border=\"1\" class=\"dataframe\">\n",
              "  <thead>\n",
              "    <tr style=\"text-align: right;\">\n",
              "      <th></th>\n",
              "      <th>ID</th>\n",
              "      <th>target</th>\n",
              "    </tr>\n",
              "  </thead>\n",
              "  <tbody>\n",
              "    <tr>\n",
              "      <th>0</th>\n",
              "      <td>ID_00241643</td>\n",
              "      <td>0</td>\n",
              "    </tr>\n",
              "    <tr>\n",
              "      <th>1</th>\n",
              "      <td>ID_00312043</td>\n",
              "      <td>0</td>\n",
              "    </tr>\n",
              "    <tr>\n",
              "      <th>2</th>\n",
              "      <td>ID_00345323</td>\n",
              "      <td>0</td>\n",
              "    </tr>\n",
              "    <tr>\n",
              "      <th>3</th>\n",
              "      <td>ID_00369643</td>\n",
              "      <td>0</td>\n",
              "    </tr>\n",
              "    <tr>\n",
              "      <th>4</th>\n",
              "      <td>ID_00381163</td>\n",
              "      <td>0</td>\n",
              "    </tr>\n",
              "  </tbody>\n",
              "</table>\n",
              "</div>"
            ],
            "text/plain": [
              "            ID  target\n",
              "0  ID_00241643       0\n",
              "1  ID_00312043       0\n",
              "2  ID_00345323       0\n",
              "3  ID_00369643       0\n",
              "4  ID_00381163       0"
            ]
          },
          "metadata": {
            "tags": []
          },
          "execution_count": 273
        }
      ]
    },
    {
      "cell_type": "code",
      "metadata": {
        "id": "RZ2H5vPHlKqJ",
        "colab": {
          "base_uri": "https://localhost:8080/"
        },
        "outputId": "14d88bee-1561-4c77-e4bb-b239afecb7cb"
      },
      "source": [
        "a = submission_df['target'].unique()\n",
        "print(a)"
      ],
      "execution_count": null,
      "outputs": [
        {
          "output_type": "stream",
          "text": [
            "[0 1]\n"
          ],
          "name": "stdout"
        }
      ]
    },
    {
      "cell_type": "code",
      "metadata": {
        "id": "Sa39KrLejLbC"
      },
      "source": [
        "#Save as csv\n",
        "submission_df.to_csv(\"friend.csv\", index=False)"
      ],
      "execution_count": null,
      "outputs": []
    }
  ]
}